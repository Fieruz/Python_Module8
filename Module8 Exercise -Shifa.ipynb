{
 "cells": [
  {
   "cell_type": "markdown",
   "metadata": {},
   "source": [
    "### Exercise 1\n",
    "Create a multiplication table from 1 to 10"
   ]
  },
  {
   "cell_type": "code",
   "execution_count": 27,
   "metadata": {},
   "outputs": [
    {
     "name": "stdout",
     "output_type": "stream",
     "text": [
      " 1  * 2 = 2\n",
      " 1  * 3 = 3\n",
      " 1  * 4 = 4\n",
      " 1  * 5 = 5\n",
      " 1  * 6 = 6\n",
      " 1  * 7 = 7\n",
      " 1  * 8 = 8\n",
      " 1  * 9 = 9\n",
      " 1  * 10 = 10\n",
      " 1  * 11 = 11\n"
     ]
    }
   ],
   "source": [
    "item = 1\n",
    "while item <= 10 :\n",
    "    #print(item)\n",
    "    item += 1\n",
    "    answer = 1 * item\n",
    "    print(f\" {1}  * {item} = {answer}\")\n",
    "    "
   ]
  },
  {
   "cell_type": "code",
   "execution_count": 26,
   "metadata": {},
   "outputs": [
    {
     "name": "stdout",
     "output_type": "stream",
     "text": [
      "1 x 2 = 1\n",
      "1 x 2 = 2\n",
      "1 x 2 = 3\n",
      "1 x 2 = 4\n",
      "1 x 2 = 5\n",
      "1 x 2 = 6\n",
      "1 x 2 = 7\n",
      "1 x 2 = 8\n",
      "1 x 2 = 9\n",
      "1 x 2 = 10\n"
     ]
    }
   ],
   "source": [
    "num=1\n",
    "for i in range(1,11):\n",
    "   print(num,'x',2,'=',num*i)"
   ]
  },
  {
   "cell_type": "markdown",
   "metadata": {},
   "source": [
    "### Exercise 2\n",
    "Write a program to find the Fibonacci numbers where each number is the sum of the two preceding ones, starting from 0 and 1. \n",
    "\n",
    "    e.g.\n",
    "    0, 1, 1, 2, 3, 5, 8, ...\n",
    "    \n",
    "Ask a user to enter a number of sequence. Generate the Fibonacci numbers in to a list. Then, print out the list.  \n",
    "\n",
    "The output should look something like this:\n",
    "\n",
    "    How many Fibonacci numbers would you like to generate? 10    \n",
    "    10 Fibonacci numbers are [0, 1, 1, 2, 3, 5, 8, 13, 21, 34]."
   ]
  },
  {
   "cell_type": "code",
   "execution_count": 25,
   "metadata": {
    "scrolled": true
   },
   "outputs": [
    {
     "name": "stdout",
     "output_type": "stream",
     "text": [
      "How many numbers would you like to generate? 10\n",
      "0 1 1 2 3 5 8 13 21 34 "
     ]
    }
   ],
   "source": [
    "def fibonacci_numbers(num):\n",
    "    num1 = 0\n",
    "    num2 = 1\n",
    "    series = 0\n",
    "    for i in range(num):\n",
    "        print(series, end=\" \");\n",
    "        num1 = num2;\n",
    "        num2 = series;\n",
    "        series = num1 + num2;\n",
    " \n",
    "num = int(input('How many numbers would you like to generate? '))\n",
    "fibonacci_numbers(num)"
   ]
  }
 ],
 "metadata": {
  "kernelspec": {
   "display_name": "Python 3",
   "language": "python",
   "name": "python3"
  },
  "language_info": {
   "codemirror_mode": {
    "name": "ipython",
    "version": 3
   },
   "file_extension": ".py",
   "mimetype": "text/x-python",
   "name": "python",
   "nbconvert_exporter": "python",
   "pygments_lexer": "ipython3",
   "version": "3.8.8"
  }
 },
 "nbformat": 4,
 "nbformat_minor": 4
}
